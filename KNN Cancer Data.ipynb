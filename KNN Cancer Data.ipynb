{
 "cells": [
  {
   "cell_type": "markdown",
   "metadata": {},
   "source": [
    "# Cancer Data Analysis"
   ]
  },
  {
   "cell_type": "code",
   "execution_count": 23,
   "metadata": {},
   "outputs": [],
   "source": [
    "# Importing libraries\n",
    "import numpy as np\n",
    "import pandas as pd\n",
    "import matplotlib.pyplot as plt\n",
    "import seaborn as sns\n",
    "%matplotlib inline"
   ]
  },
  {
   "cell_type": "code",
   "execution_count": 24,
   "metadata": {},
   "outputs": [],
   "source": [
    "# reading Data\n",
    "df = pd.read_csv(\"cancerdata.csv\", index_col=\"id\")"
   ]
  },
  {
   "cell_type": "code",
   "execution_count": 25,
   "metadata": {},
   "outputs": [
    {
     "data": {
      "text/plain": [
       "(569, 31)"
      ]
     },
     "execution_count": 25,
     "metadata": {},
     "output_type": "execute_result"
    }
   ],
   "source": [
    "df.shape"
   ]
  },
  {
   "cell_type": "code",
   "execution_count": 27,
   "metadata": {},
   "outputs": [
    {
     "data": {
      "text/html": [
       "<div>\n",
       "<style scoped>\n",
       "    .dataframe tbody tr th:only-of-type {\n",
       "        vertical-align: middle;\n",
       "    }\n",
       "\n",
       "    .dataframe tbody tr th {\n",
       "        vertical-align: top;\n",
       "    }\n",
       "\n",
       "    .dataframe thead th {\n",
       "        text-align: right;\n",
       "    }\n",
       "</style>\n",
       "<table border=\"1\" class=\"dataframe\">\n",
       "  <thead>\n",
       "    <tr style=\"text-align: right;\">\n",
       "      <th></th>\n",
       "      <th>diagnosis</th>\n",
       "      <th>radius_mean</th>\n",
       "      <th>texture_mean</th>\n",
       "      <th>perimeter_mean</th>\n",
       "      <th>area_mean</th>\n",
       "      <th>smoothness_mean</th>\n",
       "      <th>compactness_mean</th>\n",
       "      <th>concavity_mean</th>\n",
       "      <th>concave points_mean</th>\n",
       "      <th>symmetry_mean</th>\n",
       "      <th>...</th>\n",
       "      <th>radius_worst</th>\n",
       "      <th>texture_worst</th>\n",
       "      <th>perimeter_worst</th>\n",
       "      <th>area_worst</th>\n",
       "      <th>smoothness_worst</th>\n",
       "      <th>compactness_wors</th>\n",
       "      <th>concavity_worst</th>\n",
       "      <th>concave points_worst</th>\n",
       "      <th>symmetry_worst</th>\n",
       "      <th>fractal_dimension_worst</th>\n",
       "    </tr>\n",
       "    <tr>\n",
       "      <th>id</th>\n",
       "      <th></th>\n",
       "      <th></th>\n",
       "      <th></th>\n",
       "      <th></th>\n",
       "      <th></th>\n",
       "      <th></th>\n",
       "      <th></th>\n",
       "      <th></th>\n",
       "      <th></th>\n",
       "      <th></th>\n",
       "      <th></th>\n",
       "      <th></th>\n",
       "      <th></th>\n",
       "      <th></th>\n",
       "      <th></th>\n",
       "      <th></th>\n",
       "      <th></th>\n",
       "      <th></th>\n",
       "      <th></th>\n",
       "      <th></th>\n",
       "      <th></th>\n",
       "    </tr>\n",
       "  </thead>\n",
       "  <tbody>\n",
       "    <tr>\n",
       "      <th>842302</th>\n",
       "      <td>M</td>\n",
       "      <td>14.204716</td>\n",
       "      <td>20.202641</td>\n",
       "      <td>122.80</td>\n",
       "      <td>1001.0</td>\n",
       "      <td>0.096113</td>\n",
       "      <td>0.089479</td>\n",
       "      <td>0.184766</td>\n",
       "      <td>0.096526</td>\n",
       "      <td>0.150053</td>\n",
       "      <td>...</td>\n",
       "      <td>25.38</td>\n",
       "      <td>17.33</td>\n",
       "      <td>184.60</td>\n",
       "      <td>2019.0</td>\n",
       "      <td>0.1622</td>\n",
       "      <td>0.134597</td>\n",
       "      <td>0.7119</td>\n",
       "      <td>0.120681</td>\n",
       "      <td>0.4601</td>\n",
       "      <td>0.101594</td>\n",
       "    </tr>\n",
       "    <tr>\n",
       "      <th>842517</th>\n",
       "      <td>M</td>\n",
       "      <td>18.483496</td>\n",
       "      <td>22.464181</td>\n",
       "      <td>132.90</td>\n",
       "      <td>1326.0</td>\n",
       "      <td>0.094443</td>\n",
       "      <td>0.063299</td>\n",
       "      <td>0.086927</td>\n",
       "      <td>0.021108</td>\n",
       "      <td>0.213798</td>\n",
       "      <td>...</td>\n",
       "      <td>24.99</td>\n",
       "      <td>23.41</td>\n",
       "      <td>158.80</td>\n",
       "      <td>1956.0</td>\n",
       "      <td>0.1238</td>\n",
       "      <td>0.529227</td>\n",
       "      <td>0.2416</td>\n",
       "      <td>0.035439</td>\n",
       "      <td>0.2750</td>\n",
       "      <td>0.079397</td>\n",
       "    </tr>\n",
       "    <tr>\n",
       "      <th>84300903</th>\n",
       "      <td>M</td>\n",
       "      <td>15.516300</td>\n",
       "      <td>18.271486</td>\n",
       "      <td>130.00</td>\n",
       "      <td>1203.0</td>\n",
       "      <td>0.075842</td>\n",
       "      <td>0.059376</td>\n",
       "      <td>0.132738</td>\n",
       "      <td>0.052357</td>\n",
       "      <td>0.222581</td>\n",
       "      <td>...</td>\n",
       "      <td>23.57</td>\n",
       "      <td>25.53</td>\n",
       "      <td>152.50</td>\n",
       "      <td>1709.0</td>\n",
       "      <td>0.1444</td>\n",
       "      <td>0.166906</td>\n",
       "      <td>0.4504</td>\n",
       "      <td>0.149670</td>\n",
       "      <td>0.3613</td>\n",
       "      <td>0.088802</td>\n",
       "    </tr>\n",
       "    <tr>\n",
       "      <th>84348301</th>\n",
       "      <td>M</td>\n",
       "      <td>15.540583</td>\n",
       "      <td>27.560108</td>\n",
       "      <td>77.58</td>\n",
       "      <td>386.1</td>\n",
       "      <td>0.091525</td>\n",
       "      <td>0.088022</td>\n",
       "      <td>0.194466</td>\n",
       "      <td>0.010895</td>\n",
       "      <td>0.179685</td>\n",
       "      <td>...</td>\n",
       "      <td>14.91</td>\n",
       "      <td>26.50</td>\n",
       "      <td>98.87</td>\n",
       "      <td>567.7</td>\n",
       "      <td>0.2098</td>\n",
       "      <td>0.224998</td>\n",
       "      <td>0.6869</td>\n",
       "      <td>0.110799</td>\n",
       "      <td>0.6638</td>\n",
       "      <td>0.086210</td>\n",
       "    </tr>\n",
       "    <tr>\n",
       "      <th>84358402</th>\n",
       "      <td>M</td>\n",
       "      <td>14.005198</td>\n",
       "      <td>11.678064</td>\n",
       "      <td>135.10</td>\n",
       "      <td>1297.0</td>\n",
       "      <td>0.092790</td>\n",
       "      <td>0.010642</td>\n",
       "      <td>0.030518</td>\n",
       "      <td>0.037828</td>\n",
       "      <td>0.147534</td>\n",
       "      <td>...</td>\n",
       "      <td>22.54</td>\n",
       "      <td>16.67</td>\n",
       "      <td>152.20</td>\n",
       "      <td>1575.0</td>\n",
       "      <td>0.1374</td>\n",
       "      <td>0.075833</td>\n",
       "      <td>0.4000</td>\n",
       "      <td>0.126386</td>\n",
       "      <td>0.2364</td>\n",
       "      <td>0.087483</td>\n",
       "    </tr>\n",
       "  </tbody>\n",
       "</table>\n",
       "<p>5 rows × 31 columns</p>\n",
       "</div>"
      ],
      "text/plain": [
       "         diagnosis  radius_mean  texture_mean  perimeter_mean  area_mean  \\\n",
       "id                                                                         \n",
       "842302           M    14.204716     20.202641          122.80     1001.0   \n",
       "842517           M    18.483496     22.464181          132.90     1326.0   \n",
       "84300903         M    15.516300     18.271486          130.00     1203.0   \n",
       "84348301         M    15.540583     27.560108           77.58      386.1   \n",
       "84358402         M    14.005198     11.678064          135.10     1297.0   \n",
       "\n",
       "          smoothness_mean  compactness_mean  concavity_mean  \\\n",
       "id                                                            \n",
       "842302           0.096113          0.089479        0.184766   \n",
       "842517           0.094443          0.063299        0.086927   \n",
       "84300903         0.075842          0.059376        0.132738   \n",
       "84348301         0.091525          0.088022        0.194466   \n",
       "84358402         0.092790          0.010642        0.030518   \n",
       "\n",
       "          concave points_mean  symmetry_mean           ...             \\\n",
       "id                                                     ...              \n",
       "842302               0.096526       0.150053           ...              \n",
       "842517               0.021108       0.213798           ...              \n",
       "84300903             0.052357       0.222581           ...              \n",
       "84348301             0.010895       0.179685           ...              \n",
       "84358402             0.037828       0.147534           ...              \n",
       "\n",
       "          radius_worst  texture_worst  perimeter_worst  area_worst  \\\n",
       "id                                                                   \n",
       "842302           25.38          17.33           184.60      2019.0   \n",
       "842517           24.99          23.41           158.80      1956.0   \n",
       "84300903         23.57          25.53           152.50      1709.0   \n",
       "84348301         14.91          26.50            98.87       567.7   \n",
       "84358402         22.54          16.67           152.20      1575.0   \n",
       "\n",
       "          smoothness_worst  compactness_wors  concavity_worst  \\\n",
       "id                                                              \n",
       "842302              0.1622          0.134597           0.7119   \n",
       "842517              0.1238          0.529227           0.2416   \n",
       "84300903            0.1444          0.166906           0.4504   \n",
       "84348301            0.2098          0.224998           0.6869   \n",
       "84358402            0.1374          0.075833           0.4000   \n",
       "\n",
       "          concave points_worst  symmetry_worst  fractal_dimension_worst  \n",
       "id                                                                       \n",
       "842302                0.120681          0.4601                 0.101594  \n",
       "842517                0.035439          0.2750                 0.079397  \n",
       "84300903              0.149670          0.3613                 0.088802  \n",
       "84348301              0.110799          0.6638                 0.086210  \n",
       "84358402              0.126386          0.2364                 0.087483  \n",
       "\n",
       "[5 rows x 31 columns]"
      ]
     },
     "execution_count": 27,
     "metadata": {},
     "output_type": "execute_result"
    }
   ],
   "source": [
    "df.head()"
   ]
  },
  {
   "cell_type": "code",
   "execution_count": 1,
   "metadata": {},
   "outputs": [
    {
     "ename": "NameError",
     "evalue": "name 'x' is not defined",
     "output_type": "error",
     "traceback": [
      "\u001b[1;31m---------------------------------------------------------------------------\u001b[0m",
      "\u001b[1;31mNameError\u001b[0m                                 Traceback (most recent call last)",
      "\u001b[1;32m<ipython-input-1-c70f9ced90fc>\u001b[0m in \u001b[0;36m<module>\u001b[1;34m\u001b[0m\n\u001b[1;32m----> 1\u001b[1;33m \u001b[0mA\u001b[0m \u001b[1;33m=\u001b[0m \u001b[0mx\u001b[0m\u001b[1;33m.\u001b[0m\u001b[0miloc\u001b[0m\u001b[1;33m[\u001b[0m\u001b[1;33m:\u001b[0m\u001b[1;33m:\u001b[0m\u001b[1;33m,\u001b[0m\u001b[1;36m1\u001b[0m\u001b[1;33m:\u001b[0m\u001b[1;36m31\u001b[0m\u001b[1;33m]\u001b[0m\u001b[1;33m\u001b[0m\u001b[1;33m\u001b[0m\u001b[0m\n\u001b[0m\u001b[0;32m      2\u001b[0m \u001b[0my\u001b[0m \u001b[1;33m=\u001b[0m \u001b[0mx\u001b[0m\u001b[1;33m.\u001b[0m\u001b[0mdiagnosis\u001b[0m\u001b[1;33m\u001b[0m\u001b[1;33m\u001b[0m\u001b[0m\n",
      "\u001b[1;31mNameError\u001b[0m: name 'x' is not defined"
     ]
    }
   ],
   "source": [
    "x = df.iloc[::,1:31]\n",
    "y = df.diagnosis"
   ]
  },
  {
   "cell_type": "code",
   "execution_count": 29,
   "metadata": {},
   "outputs": [
    {
     "data": {
      "text/plain": [
       "B    357\n",
       "M    212\n",
       "Name: diagnosis, dtype: int64"
      ]
     },
     "execution_count": 29,
     "metadata": {},
     "output_type": "execute_result"
    }
   ],
   "source": [
    "y.value_counts()"
   ]
  },
  {
   "cell_type": "code",
   "execution_count": 30,
   "metadata": {},
   "outputs": [
    {
     "data": {
      "text/html": [
       "<div>\n",
       "<style scoped>\n",
       "    .dataframe tbody tr th:only-of-type {\n",
       "        vertical-align: middle;\n",
       "    }\n",
       "\n",
       "    .dataframe tbody tr th {\n",
       "        vertical-align: top;\n",
       "    }\n",
       "\n",
       "    .dataframe thead th {\n",
       "        text-align: right;\n",
       "    }\n",
       "</style>\n",
       "<table border=\"1\" class=\"dataframe\">\n",
       "  <thead>\n",
       "    <tr style=\"text-align: right;\">\n",
       "      <th></th>\n",
       "      <th>radius_mean</th>\n",
       "      <th>texture_mean</th>\n",
       "      <th>perimeter_mean</th>\n",
       "      <th>area_mean</th>\n",
       "      <th>smoothness_mean</th>\n",
       "      <th>compactness_mean</th>\n",
       "      <th>concavity_mean</th>\n",
       "      <th>concave points_mean</th>\n",
       "      <th>symmetry_mean</th>\n",
       "      <th>fractal_dimension_mean</th>\n",
       "      <th>...</th>\n",
       "      <th>radius_worst</th>\n",
       "      <th>texture_worst</th>\n",
       "      <th>perimeter_worst</th>\n",
       "      <th>area_worst</th>\n",
       "      <th>smoothness_worst</th>\n",
       "      <th>compactness_wors</th>\n",
       "      <th>concavity_worst</th>\n",
       "      <th>concave points_worst</th>\n",
       "      <th>symmetry_worst</th>\n",
       "      <th>fractal_dimension_worst</th>\n",
       "    </tr>\n",
       "    <tr>\n",
       "      <th>id</th>\n",
       "      <th></th>\n",
       "      <th></th>\n",
       "      <th></th>\n",
       "      <th></th>\n",
       "      <th></th>\n",
       "      <th></th>\n",
       "      <th></th>\n",
       "      <th></th>\n",
       "      <th></th>\n",
       "      <th></th>\n",
       "      <th></th>\n",
       "      <th></th>\n",
       "      <th></th>\n",
       "      <th></th>\n",
       "      <th></th>\n",
       "      <th></th>\n",
       "      <th></th>\n",
       "      <th></th>\n",
       "      <th></th>\n",
       "      <th></th>\n",
       "      <th></th>\n",
       "    </tr>\n",
       "  </thead>\n",
       "  <tbody>\n",
       "    <tr>\n",
       "      <th>842302</th>\n",
       "      <td>14.204716</td>\n",
       "      <td>20.202641</td>\n",
       "      <td>122.80</td>\n",
       "      <td>1001.0</td>\n",
       "      <td>0.096113</td>\n",
       "      <td>0.089479</td>\n",
       "      <td>0.184766</td>\n",
       "      <td>0.096526</td>\n",
       "      <td>0.150053</td>\n",
       "      <td>0.059764</td>\n",
       "      <td>...</td>\n",
       "      <td>25.38</td>\n",
       "      <td>17.33</td>\n",
       "      <td>184.60</td>\n",
       "      <td>2019.0</td>\n",
       "      <td>0.1622</td>\n",
       "      <td>0.134597</td>\n",
       "      <td>0.7119</td>\n",
       "      <td>0.120681</td>\n",
       "      <td>0.4601</td>\n",
       "      <td>0.101594</td>\n",
       "    </tr>\n",
       "    <tr>\n",
       "      <th>842517</th>\n",
       "      <td>18.483496</td>\n",
       "      <td>22.464181</td>\n",
       "      <td>132.90</td>\n",
       "      <td>1326.0</td>\n",
       "      <td>0.094443</td>\n",
       "      <td>0.063299</td>\n",
       "      <td>0.086927</td>\n",
       "      <td>0.021108</td>\n",
       "      <td>0.213798</td>\n",
       "      <td>0.074897</td>\n",
       "      <td>...</td>\n",
       "      <td>24.99</td>\n",
       "      <td>23.41</td>\n",
       "      <td>158.80</td>\n",
       "      <td>1956.0</td>\n",
       "      <td>0.1238</td>\n",
       "      <td>0.529227</td>\n",
       "      <td>0.2416</td>\n",
       "      <td>0.035439</td>\n",
       "      <td>0.2750</td>\n",
       "      <td>0.079397</td>\n",
       "    </tr>\n",
       "    <tr>\n",
       "      <th>84300903</th>\n",
       "      <td>15.516300</td>\n",
       "      <td>18.271486</td>\n",
       "      <td>130.00</td>\n",
       "      <td>1203.0</td>\n",
       "      <td>0.075842</td>\n",
       "      <td>0.059376</td>\n",
       "      <td>0.132738</td>\n",
       "      <td>0.052357</td>\n",
       "      <td>0.222581</td>\n",
       "      <td>0.056730</td>\n",
       "      <td>...</td>\n",
       "      <td>23.57</td>\n",
       "      <td>25.53</td>\n",
       "      <td>152.50</td>\n",
       "      <td>1709.0</td>\n",
       "      <td>0.1444</td>\n",
       "      <td>0.166906</td>\n",
       "      <td>0.4504</td>\n",
       "      <td>0.149670</td>\n",
       "      <td>0.3613</td>\n",
       "      <td>0.088802</td>\n",
       "    </tr>\n",
       "    <tr>\n",
       "      <th>84348301</th>\n",
       "      <td>15.540583</td>\n",
       "      <td>27.560108</td>\n",
       "      <td>77.58</td>\n",
       "      <td>386.1</td>\n",
       "      <td>0.091525</td>\n",
       "      <td>0.088022</td>\n",
       "      <td>0.194466</td>\n",
       "      <td>0.010895</td>\n",
       "      <td>0.179685</td>\n",
       "      <td>0.067824</td>\n",
       "      <td>...</td>\n",
       "      <td>14.91</td>\n",
       "      <td>26.50</td>\n",
       "      <td>98.87</td>\n",
       "      <td>567.7</td>\n",
       "      <td>0.2098</td>\n",
       "      <td>0.224998</td>\n",
       "      <td>0.6869</td>\n",
       "      <td>0.110799</td>\n",
       "      <td>0.6638</td>\n",
       "      <td>0.086210</td>\n",
       "    </tr>\n",
       "    <tr>\n",
       "      <th>84358402</th>\n",
       "      <td>14.005198</td>\n",
       "      <td>11.678064</td>\n",
       "      <td>135.10</td>\n",
       "      <td>1297.0</td>\n",
       "      <td>0.092790</td>\n",
       "      <td>0.010642</td>\n",
       "      <td>0.030518</td>\n",
       "      <td>0.037828</td>\n",
       "      <td>0.147534</td>\n",
       "      <td>0.070231</td>\n",
       "      <td>...</td>\n",
       "      <td>22.54</td>\n",
       "      <td>16.67</td>\n",
       "      <td>152.20</td>\n",
       "      <td>1575.0</td>\n",
       "      <td>0.1374</td>\n",
       "      <td>0.075833</td>\n",
       "      <td>0.4000</td>\n",
       "      <td>0.126386</td>\n",
       "      <td>0.2364</td>\n",
       "      <td>0.087483</td>\n",
       "    </tr>\n",
       "  </tbody>\n",
       "</table>\n",
       "<p>5 rows × 30 columns</p>\n",
       "</div>"
      ],
      "text/plain": [
       "          radius_mean  texture_mean  perimeter_mean  area_mean  \\\n",
       "id                                                               \n",
       "842302      14.204716     20.202641          122.80     1001.0   \n",
       "842517      18.483496     22.464181          132.90     1326.0   \n",
       "84300903    15.516300     18.271486          130.00     1203.0   \n",
       "84348301    15.540583     27.560108           77.58      386.1   \n",
       "84358402    14.005198     11.678064          135.10     1297.0   \n",
       "\n",
       "          smoothness_mean  compactness_mean  concavity_mean  \\\n",
       "id                                                            \n",
       "842302           0.096113          0.089479        0.184766   \n",
       "842517           0.094443          0.063299        0.086927   \n",
       "84300903         0.075842          0.059376        0.132738   \n",
       "84348301         0.091525          0.088022        0.194466   \n",
       "84358402         0.092790          0.010642        0.030518   \n",
       "\n",
       "          concave points_mean  symmetry_mean  fractal_dimension_mean  \\\n",
       "id                                                                     \n",
       "842302               0.096526       0.150053                0.059764   \n",
       "842517               0.021108       0.213798                0.074897   \n",
       "84300903             0.052357       0.222581                0.056730   \n",
       "84348301             0.010895       0.179685                0.067824   \n",
       "84358402             0.037828       0.147534                0.070231   \n",
       "\n",
       "                   ...             radius_worst  texture_worst  \\\n",
       "id                 ...                                           \n",
       "842302             ...                    25.38          17.33   \n",
       "842517             ...                    24.99          23.41   \n",
       "84300903           ...                    23.57          25.53   \n",
       "84348301           ...                    14.91          26.50   \n",
       "84358402           ...                    22.54          16.67   \n",
       "\n",
       "          perimeter_worst  area_worst  smoothness_worst  compactness_wors  \\\n",
       "id                                                                          \n",
       "842302             184.60      2019.0            0.1622          0.134597   \n",
       "842517             158.80      1956.0            0.1238          0.529227   \n",
       "84300903           152.50      1709.0            0.1444          0.166906   \n",
       "84348301            98.87       567.7            0.2098          0.224998   \n",
       "84358402           152.20      1575.0            0.1374          0.075833   \n",
       "\n",
       "          concavity_worst  concave points_worst  symmetry_worst  \\\n",
       "id                                                                \n",
       "842302             0.7119              0.120681          0.4601   \n",
       "842517             0.2416              0.035439          0.2750   \n",
       "84300903           0.4504              0.149670          0.3613   \n",
       "84348301           0.6869              0.110799          0.6638   \n",
       "84358402           0.4000              0.126386          0.2364   \n",
       "\n",
       "          fractal_dimension_worst  \n",
       "id                                 \n",
       "842302                   0.101594  \n",
       "842517                   0.079397  \n",
       "84300903                 0.088802  \n",
       "84348301                 0.086210  \n",
       "84358402                 0.087483  \n",
       "\n",
       "[5 rows x 30 columns]"
      ]
     },
     "execution_count": 30,
     "metadata": {},
     "output_type": "execute_result"
    }
   ],
   "source": [
    "x.head()"
   ]
  },
  {
   "cell_type": "code",
   "execution_count": 8,
   "metadata": {
    "scrolled": false
   },
   "outputs": [
    {
     "data": {
      "text/plain": [
       "radius_mean                0\n",
       "texture_mean               0\n",
       "perimeter_mean             0\n",
       "area_mean                  0\n",
       "smoothness_mean            0\n",
       "compactness_mean           0\n",
       "concavity_mean             0\n",
       "concave points_mean        0\n",
       "symmetry_mean              0\n",
       "fractal_dimension_mean     0\n",
       "radius_se                  0\n",
       "texture_se                 0\n",
       "perimeter_se               0\n",
       "area_se                    0\n",
       "smoothness_se              0\n",
       "compactness_se             0\n",
       "concavity_se               0\n",
       "concave points_se          0\n",
       "symmetry_se                0\n",
       "fractal_dimension_se       0\n",
       "radius_worst               0\n",
       "texture_worst              0\n",
       "perimeter_worst            0\n",
       "area_worst                 0\n",
       "smoothness_worst           0\n",
       "compactness_wors           0\n",
       "concavity_worst            0\n",
       "concave points_worst       0\n",
       "symmetry_worst             0\n",
       "fractal_dimension_worst    0\n",
       "dtype: int64"
      ]
     },
     "execution_count": 8,
     "metadata": {},
     "output_type": "execute_result"
    }
   ],
   "source": [
    "x.isna().sum()"
   ]
  },
  {
   "cell_type": "code",
   "execution_count": 9,
   "metadata": {},
   "outputs": [],
   "source": [
    "# No NA's present into data"
   ]
  },
  {
   "cell_type": "markdown",
   "metadata": {},
   "source": [
    "# Standardize the Variables"
   ]
  },
  {
   "cell_type": "code",
   "execution_count": 31,
   "metadata": {},
   "outputs": [],
   "source": [
    "from sklearn.preprocessing import StandardScaler\n",
    "scaler = StandardScaler()\n",
    "scaler.fit(x)\n",
    "x_scaled = pd.DataFrame(scaler.transform(x), columns = df.columns[1:31])"
   ]
  },
  {
   "cell_type": "code",
   "execution_count": 32,
   "metadata": {
    "scrolled": true
   },
   "outputs": [
    {
     "data": {
      "text/html": [
       "<div>\n",
       "<style scoped>\n",
       "    .dataframe tbody tr th:only-of-type {\n",
       "        vertical-align: middle;\n",
       "    }\n",
       "\n",
       "    .dataframe tbody tr th {\n",
       "        vertical-align: top;\n",
       "    }\n",
       "\n",
       "    .dataframe thead th {\n",
       "        text-align: right;\n",
       "    }\n",
       "</style>\n",
       "<table border=\"1\" class=\"dataframe\">\n",
       "  <thead>\n",
       "    <tr style=\"text-align: right;\">\n",
       "      <th></th>\n",
       "      <th>radius_mean</th>\n",
       "      <th>texture_mean</th>\n",
       "      <th>perimeter_mean</th>\n",
       "      <th>area_mean</th>\n",
       "      <th>smoothness_mean</th>\n",
       "      <th>compactness_mean</th>\n",
       "      <th>concavity_mean</th>\n",
       "      <th>concave points_mean</th>\n",
       "      <th>symmetry_mean</th>\n",
       "      <th>fractal_dimension_mean</th>\n",
       "      <th>...</th>\n",
       "      <th>radius_worst</th>\n",
       "      <th>texture_worst</th>\n",
       "      <th>perimeter_worst</th>\n",
       "      <th>area_worst</th>\n",
       "      <th>smoothness_worst</th>\n",
       "      <th>compactness_wors</th>\n",
       "      <th>concavity_worst</th>\n",
       "      <th>concave points_worst</th>\n",
       "      <th>symmetry_worst</th>\n",
       "      <th>fractal_dimension_worst</th>\n",
       "    </tr>\n",
       "  </thead>\n",
       "  <tbody>\n",
       "    <tr>\n",
       "      <th>0</th>\n",
       "      <td>0.013881</td>\n",
       "      <td>0.260882</td>\n",
       "      <td>1.269934</td>\n",
       "      <td>0.984375</td>\n",
       "      <td>0.016434</td>\n",
       "      <td>-0.327064</td>\n",
       "      <td>1.119732</td>\n",
       "      <td>1.134648</td>\n",
       "      <td>-1.120050</td>\n",
       "      <td>-0.521553</td>\n",
       "      <td>...</td>\n",
       "      <td>1.886690</td>\n",
       "      <td>-1.359293</td>\n",
       "      <td>2.303601</td>\n",
       "      <td>2.001237</td>\n",
       "      <td>1.307686</td>\n",
       "      <td>-0.701018</td>\n",
       "      <td>2.109526</td>\n",
       "      <td>-0.024805</td>\n",
       "      <td>2.750622</td>\n",
       "      <td>1.025937</td>\n",
       "    </tr>\n",
       "    <tr>\n",
       "      <th>1</th>\n",
       "      <td>1.260512</td>\n",
       "      <td>0.762178</td>\n",
       "      <td>1.685955</td>\n",
       "      <td>1.908708</td>\n",
       "      <td>-0.104871</td>\n",
       "      <td>-0.833161</td>\n",
       "      <td>-0.066185</td>\n",
       "      <td>-0.652919</td>\n",
       "      <td>1.265773</td>\n",
       "      <td>1.715722</td>\n",
       "      <td>...</td>\n",
       "      <td>1.805927</td>\n",
       "      <td>-0.369203</td>\n",
       "      <td>1.535126</td>\n",
       "      <td>1.890489</td>\n",
       "      <td>-0.375612</td>\n",
       "      <td>1.828835</td>\n",
       "      <td>-0.146749</td>\n",
       "      <td>-1.340454</td>\n",
       "      <td>-0.243890</td>\n",
       "      <td>-0.171962</td>\n",
       "    </tr>\n",
       "    <tr>\n",
       "      <th>2</th>\n",
       "      <td>0.396013</td>\n",
       "      <td>-0.167180</td>\n",
       "      <td>1.566503</td>\n",
       "      <td>1.558884</td>\n",
       "      <td>-1.456150</td>\n",
       "      <td>-0.909003</td>\n",
       "      <td>0.489096</td>\n",
       "      <td>0.087740</td>\n",
       "      <td>1.594474</td>\n",
       "      <td>-0.969961</td>\n",
       "      <td>...</td>\n",
       "      <td>1.511870</td>\n",
       "      <td>-0.023974</td>\n",
       "      <td>1.347475</td>\n",
       "      <td>1.456285</td>\n",
       "      <td>0.527407</td>\n",
       "      <td>-0.493896</td>\n",
       "      <td>0.854974</td>\n",
       "      <td>0.422629</td>\n",
       "      <td>1.152255</td>\n",
       "      <td>0.335611</td>\n",
       "    </tr>\n",
       "    <tr>\n",
       "      <th>3</th>\n",
       "      <td>0.403088</td>\n",
       "      <td>1.891747</td>\n",
       "      <td>-0.592687</td>\n",
       "      <td>-0.764464</td>\n",
       "      <td>-0.316835</td>\n",
       "      <td>-0.355227</td>\n",
       "      <td>1.237301</td>\n",
       "      <td>-0.895001</td>\n",
       "      <td>-0.011010</td>\n",
       "      <td>0.670090</td>\n",
       "      <td>...</td>\n",
       "      <td>-0.281464</td>\n",
       "      <td>0.133984</td>\n",
       "      <td>-0.249939</td>\n",
       "      <td>-0.550021</td>\n",
       "      <td>3.394275</td>\n",
       "      <td>-0.121482</td>\n",
       "      <td>1.989588</td>\n",
       "      <td>-0.177328</td>\n",
       "      <td>6.046041</td>\n",
       "      <td>0.195711</td>\n",
       "    </tr>\n",
       "    <tr>\n",
       "      <th>4</th>\n",
       "      <td>-0.044249</td>\n",
       "      <td>-1.628685</td>\n",
       "      <td>1.776573</td>\n",
       "      <td>1.826229</td>\n",
       "      <td>-0.224964</td>\n",
       "      <td>-1.851124</td>\n",
       "      <td>-0.749924</td>\n",
       "      <td>-0.256612</td>\n",
       "      <td>-1.214339</td>\n",
       "      <td>1.025913</td>\n",
       "      <td>...</td>\n",
       "      <td>1.298575</td>\n",
       "      <td>-1.466770</td>\n",
       "      <td>1.338539</td>\n",
       "      <td>1.220724</td>\n",
       "      <td>0.220556</td>\n",
       "      <td>-1.077736</td>\n",
       "      <td>0.613179</td>\n",
       "      <td>0.063246</td>\n",
       "      <td>-0.868353</td>\n",
       "      <td>0.264407</td>\n",
       "    </tr>\n",
       "  </tbody>\n",
       "</table>\n",
       "<p>5 rows × 30 columns</p>\n",
       "</div>"
      ],
      "text/plain": [
       "   radius_mean  texture_mean  perimeter_mean  area_mean  smoothness_mean  \\\n",
       "0     0.013881      0.260882        1.269934   0.984375         0.016434   \n",
       "1     1.260512      0.762178        1.685955   1.908708        -0.104871   \n",
       "2     0.396013     -0.167180        1.566503   1.558884        -1.456150   \n",
       "3     0.403088      1.891747       -0.592687  -0.764464        -0.316835   \n",
       "4    -0.044249     -1.628685        1.776573   1.826229        -0.224964   \n",
       "\n",
       "   compactness_mean  concavity_mean  concave points_mean  symmetry_mean  \\\n",
       "0         -0.327064        1.119732             1.134648      -1.120050   \n",
       "1         -0.833161       -0.066185            -0.652919       1.265773   \n",
       "2         -0.909003        0.489096             0.087740       1.594474   \n",
       "3         -0.355227        1.237301            -0.895001      -0.011010   \n",
       "4         -1.851124       -0.749924            -0.256612      -1.214339   \n",
       "\n",
       "   fractal_dimension_mean           ...             radius_worst  \\\n",
       "0               -0.521553           ...                 1.886690   \n",
       "1                1.715722           ...                 1.805927   \n",
       "2               -0.969961           ...                 1.511870   \n",
       "3                0.670090           ...                -0.281464   \n",
       "4                1.025913           ...                 1.298575   \n",
       "\n",
       "   texture_worst  perimeter_worst  area_worst  smoothness_worst  \\\n",
       "0      -1.359293         2.303601    2.001237          1.307686   \n",
       "1      -0.369203         1.535126    1.890489         -0.375612   \n",
       "2      -0.023974         1.347475    1.456285          0.527407   \n",
       "3       0.133984        -0.249939   -0.550021          3.394275   \n",
       "4      -1.466770         1.338539    1.220724          0.220556   \n",
       "\n",
       "   compactness_wors  concavity_worst  concave points_worst  symmetry_worst  \\\n",
       "0         -0.701018         2.109526             -0.024805        2.750622   \n",
       "1          1.828835        -0.146749             -1.340454       -0.243890   \n",
       "2         -0.493896         0.854974              0.422629        1.152255   \n",
       "3         -0.121482         1.989588             -0.177328        6.046041   \n",
       "4         -1.077736         0.613179              0.063246       -0.868353   \n",
       "\n",
       "   fractal_dimension_worst  \n",
       "0                 1.025937  \n",
       "1                -0.171962  \n",
       "2                 0.335611  \n",
       "3                 0.195711  \n",
       "4                 0.264407  \n",
       "\n",
       "[5 rows x 30 columns]"
      ]
     },
     "execution_count": 32,
     "metadata": {},
     "output_type": "execute_result"
    }
   ],
   "source": [
    "x_scaled.head()"
   ]
  },
  {
   "cell_type": "markdown",
   "metadata": {},
   "source": [
    "# Train Test Split"
   ]
  },
  {
   "cell_type": "code",
   "execution_count": 33,
   "metadata": {},
   "outputs": [],
   "source": [
    "from sklearn.model_selection import train_test_split\n",
    "x_train, x_test, y_train, y_test = train_test_split(x_scaled,y,test_size=0.30)"
   ]
  },
  {
   "cell_type": "markdown",
   "metadata": {},
   "source": [
    "# Model Building"
   ]
  },
  {
   "cell_type": "code",
   "execution_count": 34,
   "metadata": {},
   "outputs": [
    {
     "data": {
      "text/plain": [
       "KNeighborsClassifier(algorithm='auto', leaf_size=30, metric='minkowski',\n",
       "           metric_params=None, n_jobs=None, n_neighbors=1, p=2,\n",
       "           weights='uniform')"
      ]
     },
     "execution_count": 34,
     "metadata": {},
     "output_type": "execute_result"
    }
   ],
   "source": [
    "from sklearn.neighbors import KNeighborsClassifier\n",
    "knn = KNeighborsClassifier(n_neighbors=1)\n",
    "knn.fit(x_train,y_train)"
   ]
  },
  {
   "cell_type": "code",
   "execution_count": 35,
   "metadata": {},
   "outputs": [],
   "source": [
    "pred = knn.predict(x_test)"
   ]
  },
  {
   "cell_type": "markdown",
   "metadata": {},
   "source": [
    "# Predictions and Evaluations"
   ]
  },
  {
   "cell_type": "code",
   "execution_count": 36,
   "metadata": {},
   "outputs": [],
   "source": [
    "from sklearn.metrics import classification_report,confusion_matrix"
   ]
  },
  {
   "cell_type": "code",
   "execution_count": 37,
   "metadata": {},
   "outputs": [
    {
     "name": "stdout",
     "output_type": "stream",
     "text": [
      "[[104   7]\n",
      " [  9  51]]\n"
     ]
    }
   ],
   "source": [
    "print(confusion_matrix(y_test,pred))"
   ]
  },
  {
   "cell_type": "code",
   "execution_count": 38,
   "metadata": {},
   "outputs": [
    {
     "name": "stdout",
     "output_type": "stream",
     "text": [
      "              precision    recall  f1-score   support\n",
      "\n",
      "           B       0.92      0.94      0.93       111\n",
      "           M       0.88      0.85      0.86        60\n",
      "\n",
      "   micro avg       0.91      0.91      0.91       171\n",
      "   macro avg       0.90      0.89      0.90       171\n",
      "weighted avg       0.91      0.91      0.91       171\n",
      "\n"
     ]
    }
   ],
   "source": [
    "print(classification_report(y_test,pred))"
   ]
  },
  {
   "cell_type": "code",
   "execution_count": null,
   "metadata": {},
   "outputs": [],
   "source": []
  },
  {
   "cell_type": "code",
   "execution_count": 39,
   "metadata": {},
   "outputs": [
    {
     "data": {
      "text/plain": [
       "KNeighborsClassifier(algorithm='auto', leaf_size=30, metric='minkowski',\n",
       "           metric_params=None, n_jobs=None, n_neighbors=10, p=2,\n",
       "           weights='uniform')"
      ]
     },
     "execution_count": 39,
     "metadata": {},
     "output_type": "execute_result"
    }
   ],
   "source": [
    "from sklearn.neighbors import KNeighborsClassifier\n",
    "knn_2 = KNeighborsClassifier(n_neighbors=10)\n",
    "knn_2.fit(x_train,y_train)"
   ]
  },
  {
   "cell_type": "code",
   "execution_count": 40,
   "metadata": {},
   "outputs": [],
   "source": [
    "pred_2 = knn_2.predict(x_test)"
   ]
  },
  {
   "cell_type": "code",
   "execution_count": 41,
   "metadata": {},
   "outputs": [
    {
     "name": "stdout",
     "output_type": "stream",
     "text": [
      "[[109   2]\n",
      " [ 11  49]]\n"
     ]
    }
   ],
   "source": [
    "from sklearn.metrics import classification_report,confusion_matrix\n",
    "print(confusion_matrix(y_test,pred_2))"
   ]
  },
  {
   "cell_type": "markdown",
   "metadata": {},
   "source": [
    "# Choosing a K Value with Elbow method"
   ]
  },
  {
   "cell_type": "code",
   "execution_count": 42,
   "metadata": {},
   "outputs": [],
   "source": [
    "error_rate = []\n",
    "\n",
    "# Will take some time\n",
    "for i in range(1,30):\n",
    "    knn = KNeighborsClassifier(n_neighbors=i)\n",
    "    knn.fit(x_train,y_train)\n",
    "    pred_i = knn.predict(x_test)\n",
    "    error_rate.append(np.mean(pred_i != y_test))"
   ]
  },
  {
   "cell_type": "code",
   "execution_count": 43,
   "metadata": {},
   "outputs": [
    {
     "data": {
      "text/plain": [
       "Text(0, 0.5, 'Error Rate')"
      ]
     },
     "execution_count": 43,
     "metadata": {},
     "output_type": "execute_result"
    },
    {
     "data": {
      "image/png": "[encoded data removed]",
      "text/plain": [
       "<Figure size 720x432 with 1 Axes>"
      ]
     },
     "metadata": {
      "needs_background": "light"
     },
     "output_type": "display_data"
    }
   ],
   "source": [
    "plt.figure(figsize=(10,6))\n",
    "plt.plot(range(1,30),error_rate,color='blue', linestyle='dashed', marker='o', markerfacecolor='red', markersize=10)\n",
    "plt.title('Error Rate vs. K Value')\n",
    "plt.xlabel('K')\n",
    "plt.ylabel('Error Rate')"
   ]
  },
  {
   "cell_type": "markdown",
   "metadata": {},
   "source": [
    "From Figire we can say that for k = 5 error is very minimum."
   ]
  },
  {
   "cell_type": "code",
   "execution_count": 44,
   "metadata": {},
   "outputs": [],
   "source": [
    "model2 = KNeighborsClassifier(n_neighbors=5)\n",
    "model2.fit(x_train,y_train)\n",
    "pred2 = model2.predict(x_test)"
   ]
  },
  {
   "cell_type": "code",
   "execution_count": 45,
   "metadata": {},
   "outputs": [
    {
     "name": "stdout",
     "output_type": "stream",
     "text": [
      "[[104   7]\n",
      " [  9  51]]\n"
     ]
    }
   ],
   "source": [
    "print(confusion_matrix(y_test,pred))"
   ]
  },
  {
   "cell_type": "code",
   "execution_count": 46,
   "metadata": {},
   "outputs": [
    {
     "name": "stdout",
     "output_type": "stream",
     "text": [
      "              precision    recall  f1-score   support\n",
      "\n",
      "           B       0.92      0.94      0.93       111\n",
      "           M       0.88      0.85      0.86        60\n",
      "\n",
      "   micro avg       0.91      0.91      0.91       171\n",
      "   macro avg       0.90      0.89      0.90       171\n",
      "weighted avg       0.91      0.91      0.91       171\n",
      "\n"
     ]
    }
   ],
   "source": [
    "print(classification_report(y_test,pred))"
   ]
  },
  {
   "cell_type": "markdown",
   "metadata": {},
   "source": [
    "# Conclusion"
   ]
  },
  {
   "cell_type": "markdown",
   "metadata": {},
   "source": [
    "There is no change in performance so we can go with model2 Approach where no of neighbor value is 5."
   ]
  }
 ],
 "metadata": {
  "kernelspec": {
   "display_name": "Python 3",
   "language": "python",
   "name": "python3"
  },
  "language_info": {
   "codemirror_mode": {
    "name": "ipython",
    "version": 3
   },
   "file_extension": ".py",
   "mimetype": "text/x-python",
   "name": "python",
   "nbconvert_exporter": "python",
   "pygments_lexer": "ipython3",
   "version": "3.8.8"
  }
 },
 "nbformat": 4,
 "nbformat_minor": 2
}
