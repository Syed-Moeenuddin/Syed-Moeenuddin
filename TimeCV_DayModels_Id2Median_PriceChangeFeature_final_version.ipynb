{
 "cells": [
  {
   "cell_type": "code",
   "execution_count": 1,
   "metadata": {},
   "outputs": [
    {
     "name": "stdout",
     "output_type": "stream",
     "text": [
      "time: 293 µs (started: 2021-10-31 13:51:02 +00:00)\n"
     ]
    }
   ],
   "source": [
    "%load_ext autotime"
   ]
  },
  {
   "cell_type": "code",
   "execution_count": 2,
   "metadata": {},
   "outputs": [
    {
     "name": "stdout",
     "output_type": "stream",
     "text": [
      "time: 389 µs (started: 2021-10-31 13:51:02 +00:00)\n"
     ]
    }
   ],
   "source": [
    "import warnings\n",
    "warnings.filterwarnings(\"ignore\")"
   ]
  },
  {
   "cell_type": "code",
   "execution_count": 3,
   "metadata": {},
   "outputs": [
    {
     "name": "stdout",
     "output_type": "stream",
     "text": [
      "time: 213 ms (started: 2021-10-31 13:51:02 +00:00)\n"
     ]
    }
   ],
   "source": [
    "import numpy as np\n",
    "import pandas as pd\n",
    "from datetime import datetime, timedelta\n",
    "from tqdm.notebook import tqdm"
   ]
  },
  {
   "cell_type": "code",
   "execution_count": 4,
   "metadata": {},
   "outputs": [
    {
     "name": "stdout",
     "output_type": "stream",
     "text": [
      "time: 2.1 s (started: 2021-10-31 13:51:02 +00:00)\n"
     ]
    }
   ],
   "source": [
    "train = pd.read_parquet('../data/processed/df_train.parquet')\n",
    "test = pd.read_parquet('../data/processed/df_test.parquet')\n",
    "test.loc[test['date'] == test['date'].min(), 'price_change_perc'] = 0\n",
    "test.loc[test['date'] == test['date'].min(), 'price_change_logdiff'] = 0\n",
    "\n",
    "sub = pd.read_csv('../data/raw/sample_final.csv')"
   ]
  },
  {
   "cell_type": "code",
   "execution_count": 5,
   "metadata": {},
   "outputs": [
    {
     "data": {
      "text/html": [
       "<div>\n",
       "<style scoped>\n",
       "    .dataframe tbody tr th:only-of-type {\n",
       "        vertical-align: middle;\n",
       "    }\n",
       "\n",
       "    .dataframe tbody tr th {\n",
       "        vertical-align: top;\n",
       "    }\n",
       "\n",
       "    .dataframe thead th {\n",
       "        text-align: right;\n",
       "    }\n",
       "</style>\n",
       "<table border=\"1\" class=\"dataframe\">\n",
       "  <thead>\n",
       "    <tr style=\"text-align: right;\">\n",
       "      <th></th>\n",
       "      <th>geo_cluster_id</th>\n",
       "      <th>sku_id</th>\n",
       "      <th>date</th>\n",
       "      <th>price</th>\n",
       "      <th>sales</th>\n",
       "      <th>city_id</th>\n",
       "      <th>category_id</th>\n",
       "      <th>product_type_id</th>\n",
       "      <th>brand_id</th>\n",
       "      <th>trademark_id</th>\n",
       "      <th>origin_country_id</th>\n",
       "      <th>commodity_group_id</th>\n",
       "      <th>weekday</th>\n",
       "      <th>price_change</th>\n",
       "    </tr>\n",
       "    <tr>\n",
       "      <th>transaction_id</th>\n",
       "      <th></th>\n",
       "      <th></th>\n",
       "      <th></th>\n",
       "      <th></th>\n",
       "      <th></th>\n",
       "      <th></th>\n",
       "      <th></th>\n",
       "      <th></th>\n",
       "      <th></th>\n",
       "      <th></th>\n",
       "      <th></th>\n",
       "      <th></th>\n",
       "      <th></th>\n",
       "      <th></th>\n",
       "    </tr>\n",
       "  </thead>\n",
       "  <tbody>\n",
       "    <tr>\n",
       "      <th>28034500</th>\n",
       "      <td>1990</td>\n",
       "      <td>17</td>\n",
       "      <td>2021-04-11</td>\n",
       "      <td>52.59</td>\n",
       "      <td>0.0</td>\n",
       "      <td>0</td>\n",
       "      <td>5416</td>\n",
       "      <td>4770</td>\n",
       "      <td>-1</td>\n",
       "      <td>-1</td>\n",
       "      <td>-1</td>\n",
       "      <td>5551018</td>\n",
       "      <td>6</td>\n",
       "      <td>False</td>\n",
       "    </tr>\n",
       "    <tr>\n",
       "      <th>28034501</th>\n",
       "      <td>1990</td>\n",
       "      <td>17</td>\n",
       "      <td>2021-04-12</td>\n",
       "      <td>52.59</td>\n",
       "      <td>0.0</td>\n",
       "      <td>0</td>\n",
       "      <td>5416</td>\n",
       "      <td>4770</td>\n",
       "      <td>-1</td>\n",
       "      <td>-1</td>\n",
       "      <td>-1</td>\n",
       "      <td>5551018</td>\n",
       "      <td>0</td>\n",
       "      <td>False</td>\n",
       "    </tr>\n",
       "    <tr>\n",
       "      <th>28034502</th>\n",
       "      <td>1990</td>\n",
       "      <td>17</td>\n",
       "      <td>2021-04-13</td>\n",
       "      <td>52.59</td>\n",
       "      <td>0.0</td>\n",
       "      <td>0</td>\n",
       "      <td>5416</td>\n",
       "      <td>4770</td>\n",
       "      <td>-1</td>\n",
       "      <td>-1</td>\n",
       "      <td>-1</td>\n",
       "      <td>5551018</td>\n",
       "      <td>1</td>\n",
       "      <td>False</td>\n",
       "    </tr>\n",
       "    <tr>\n",
       "      <th>28034503</th>\n",
       "      <td>1990</td>\n",
       "      <td>17</td>\n",
       "      <td>2021-04-14</td>\n",
       "      <td>52.59</td>\n",
       "      <td>0.0</td>\n",
       "      <td>0</td>\n",
       "      <td>5416</td>\n",
       "      <td>4770</td>\n",
       "      <td>-1</td>\n",
       "      <td>-1</td>\n",
       "      <td>-1</td>\n",
       "      <td>5551018</td>\n",
       "      <td>2</td>\n",
       "      <td>False</td>\n",
       "    </tr>\n",
       "    <tr>\n",
       "      <th>28034504</th>\n",
       "      <td>1990</td>\n",
       "      <td>17</td>\n",
       "      <td>2021-04-15</td>\n",
       "      <td>52.59</td>\n",
       "      <td>0.0</td>\n",
       "      <td>0</td>\n",
       "      <td>5416</td>\n",
       "      <td>4770</td>\n",
       "      <td>-1</td>\n",
       "      <td>-1</td>\n",
       "      <td>-1</td>\n",
       "      <td>5551018</td>\n",
       "      <td>3</td>\n",
       "      <td>False</td>\n",
       "    </tr>\n",
       "    <tr>\n",
       "      <th>...</th>\n",
       "      <td>...</td>\n",
       "      <td>...</td>\n",
       "      <td>...</td>\n",
       "      <td>...</td>\n",
       "      <td>...</td>\n",
       "      <td>...</td>\n",
       "      <td>...</td>\n",
       "      <td>...</td>\n",
       "      <td>...</td>\n",
       "      <td>...</td>\n",
       "      <td>...</td>\n",
       "      <td>...</td>\n",
       "      <td>...</td>\n",
       "      <td>...</td>\n",
       "    </tr>\n",
       "    <tr>\n",
       "      <th>42797611</th>\n",
       "      <td>3209</td>\n",
       "      <td>873803</td>\n",
       "      <td>2021-07-15</td>\n",
       "      <td>0.00</td>\n",
       "      <td>0.0</td>\n",
       "      <td>0</td>\n",
       "      <td>5923</td>\n",
       "      <td>697</td>\n",
       "      <td>-1</td>\n",
       "      <td>2779</td>\n",
       "      <td>-1</td>\n",
       "      <td>5550259</td>\n",
       "      <td>3</td>\n",
       "      <td>False</td>\n",
       "    </tr>\n",
       "    <tr>\n",
       "      <th>42797612</th>\n",
       "      <td>3209</td>\n",
       "      <td>873803</td>\n",
       "      <td>2021-07-16</td>\n",
       "      <td>0.00</td>\n",
       "      <td>0.0</td>\n",
       "      <td>0</td>\n",
       "      <td>5923</td>\n",
       "      <td>697</td>\n",
       "      <td>-1</td>\n",
       "      <td>2779</td>\n",
       "      <td>-1</td>\n",
       "      <td>5550259</td>\n",
       "      <td>4</td>\n",
       "      <td>False</td>\n",
       "    </tr>\n",
       "    <tr>\n",
       "      <th>42797613</th>\n",
       "      <td>3209</td>\n",
       "      <td>873803</td>\n",
       "      <td>2021-07-17</td>\n",
       "      <td>0.00</td>\n",
       "      <td>0.0</td>\n",
       "      <td>0</td>\n",
       "      <td>5923</td>\n",
       "      <td>697</td>\n",
       "      <td>-1</td>\n",
       "      <td>2779</td>\n",
       "      <td>-1</td>\n",
       "      <td>5550259</td>\n",
       "      <td>5</td>\n",
       "      <td>False</td>\n",
       "    </tr>\n",
       "    <tr>\n",
       "      <th>42797614</th>\n",
       "      <td>3209</td>\n",
       "      <td>873803</td>\n",
       "      <td>2021-07-18</td>\n",
       "      <td>0.00</td>\n",
       "      <td>0.0</td>\n",
       "      <td>0</td>\n",
       "      <td>5923</td>\n",
       "      <td>697</td>\n",
       "      <td>-1</td>\n",
       "      <td>2779</td>\n",
       "      <td>-1</td>\n",
       "      <td>5550259</td>\n",
       "      <td>6</td>\n",
       "      <td>False</td>\n",
       "    </tr>\n",
       "    <tr>\n",
       "      <th>42797615</th>\n",
       "      <td>3209</td>\n",
       "      <td>873803</td>\n",
       "      <td>2021-07-19</td>\n",
       "      <td>0.00</td>\n",
       "      <td>0.0</td>\n",
       "      <td>0</td>\n",
       "      <td>5923</td>\n",
       "      <td>697</td>\n",
       "      <td>-1</td>\n",
       "      <td>2779</td>\n",
       "      <td>-1</td>\n",
       "      <td>5550259</td>\n",
       "      <td>0</td>\n",
       "      <td>False</td>\n",
       "    </tr>\n",
       "  </tbody>\n",
       "</table>\n",
       "<p>10410303 rows × 14 columns</p>\n",
       "</div>"
      ],
      "text/plain": [
       "                geo_cluster_id  sku_id       date  price  sales  city_id  \\\n",
       "transaction_id                                                             \n",
       "28034500                  1990      17 2021-04-11  52.59    0.0        0   \n",
       "28034501                  1990      17 2021-04-12  52.59    0.0        0   \n",
       "28034502                  1990      17 2021-04-13  52.59    0.0        0   \n",
       "28034503                  1990      17 2021-04-14  52.59    0.0        0   \n",
       "28034504                  1990      17 2021-04-15  52.59    0.0        0   \n",
       "...                        ...     ...        ...    ...    ...      ...   \n",
       "42797611                  3209  873803 2021-07-15   0.00    0.0        0   \n",
       "42797612                  3209  873803 2021-07-16   0.00    0.0        0   \n",
       "42797613                  3209  873803 2021-07-17   0.00    0.0        0   \n",
       "42797614                  3209  873803 2021-07-18   0.00    0.0        0   \n",
       "42797615                  3209  873803 2021-07-19   0.00    0.0        0   \n",
       "\n",
       "                category_id  product_type_id  brand_id  trademark_id  \\\n",
       "transaction_id                                                         \n",
       "28034500               5416             4770        -1            -1   \n",
       "28034501               5416             4770        -1            -1   \n",
       "28034502               5416             4770        -1            -1   \n",
       "28034503               5416             4770        -1            -1   \n",
       "28034504               5416             4770        -1            -1   \n",
       "...                     ...              ...       ...           ...   \n",
       "42797611               5923              697        -1          2779   \n",
       "42797612               5923              697        -1          2779   \n",
       "42797613               5923              697        -1          2779   \n",
       "42797614               5923              697        -1          2779   \n",
       "42797615               5923              697        -1          2779   \n",
       "\n",
       "                origin_country_id  commodity_group_id  weekday  price_change  \n",
       "transaction_id                                                                \n",
       "28034500                       -1             5551018        6         False  \n",
       "28034501                       -1             5551018        0         False  \n",
       "28034502                       -1             5551018        1         False  \n",
       "28034503                       -1             5551018        2         False  \n",
       "28034504                       -1             5551018        3         False  \n",
       "...                           ...                 ...      ...           ...  \n",
       "42797611                       -1             5550259        3         False  \n",
       "42797612                       -1             5550259        4         False  \n",
       "42797613                       -1             5550259        5         False  \n",
       "42797614                       -1             5550259        6         False  \n",
       "42797615                       -1             5550259        0         False  \n",
       "\n",
       "[10410303 rows x 14 columns]"
      ]
     },
     "execution_count": 5,
     "metadata": {},
     "output_type": "execute_result"
    },
    {
     "name": "stdout",
     "output_type": "stream",
     "text": [
      "time: 2.13 s (started: 2021-10-31 13:51:04 +00:00)\n"
     ]
    }
   ],
   "source": [
    "cols = ['geo_cluster_id', 'sku_id', 'date', 'price', 'sales', 'city_id', \n",
    "        'category_id', 'product_type_id', 'brand_id', 'trademark_id',\n",
    "        'origin_country_id', 'commodity_group_id', 'weekday', 'price_change_perc']\n",
    "\n",
    "def transform_df(df, max_days=100):\n",
    "    df = df[df['date'] > df['date'].max() - timedelta(days=max_days)]\n",
    "    df = df[cols].copy()\n",
    "    df['price_change'] = df['price_change_perc'] !=0\n",
    "    return df.drop(columns= 'price_change_perc').fillna(0)\n",
    "\n",
    "train = transform_df(train)\n",
    "test = transform_df(test)\n",
    "\n",
    "train"
   ]
  },
  {
   "cell_type": "markdown",
   "metadata": {},
   "source": [
    "# Features"
   ]
  },
  {
   "cell_type": "code",
   "execution_count": 6,
   "metadata": {},
   "outputs": [
    {
     "name": "stdout",
     "output_type": "stream",
     "text": [
      "time: 10 ms (started: 2021-10-31 13:51:06 +00:00)\n"
     ]
    }
   ],
   "source": [
    "geo_sku_date_cols = ['geo_cluster_id', 'sku_id', 'date']\n",
    "source_feature_cols = ['price_change', 'sales', 'price', 'weekday']\n",
    "\n",
    "\n",
    "def get_future_values(df, date, col, n=14):\n",
    "    cols = geo_sku_date_cols + [col]\n",
    "    df_roll = df.loc[(df['date'] <= date + timedelta(days=n)) & (df['date'] >= date) ,cols].copy()\n",
    "    for i in range(1, n+1):\n",
    "        df_roll[f'{col}_{i}'] = df_roll[col].shift(-i)\n",
    "\n",
    "    geo_cluster_mask = df_roll['geo_cluster_id'] == df_roll['geo_cluster_id'].shift(-n)\n",
    "    sku_id_mask = df_roll['sku_id'] == df_roll['sku_id'].shift(-n)\n",
    "    \n",
    "    df_roll = df_roll[geo_cluster_mask & sku_id_mask].dropna().drop(columns=col)\n",
    "    \n",
    "    roll_cols = [f'{col}_{i}' for i in range(1, n+1)]\n",
    "    df_roll[roll_cols] = df_roll[roll_cols].astype(df[col].dtype)\n",
    "    return df_roll\n",
    "\n",
    "\n",
    "def get_feature(df, date, train_days=30):\n",
    "    df = df[(date >= df['date']) & (df['date'] > date - timedelta(days=train_days))]\n",
    "    \n",
    "    group_name_list = [\n",
    "        (['geo_cluster_id', 'sku_id'], 'median_geo_sku'),\n",
    "        (['geo_cluster_id', 'sku_id', 'weekday'], 'median_geo_sku_weekday'),\n",
    "        (['geo_cluster_id'], 'median_geo_cluster_id'),\n",
    "        (['sku_id'], 'median_sku_id'),\n",
    "        (['city_id'], 'median_city_id'),\n",
    "        (['category_id'], 'median_category_id'),\n",
    "        (['product_type_id'], 'median_product_type_id'),\n",
    "        (['brand_id'], 'median_brand_id'),\n",
    "        (['trademark_id'], 'median_trademark_id'),\n",
    "        (['origin_country_id'], 'median_origin_country_id'),\n",
    "        (['commodity_group_id'], 'median_commodity_group_id'),\n",
    "    ]\n",
    "    \n",
    "    median_feature = [\n",
    "        df[df['sales']!=0].groupby(['geo_cluster_id', 'sku_id'])['sales'].median().rename('median_non_zero_sales'),\n",
    "        df[df['price_change']!=0].groupby(['geo_cluster_id', 'sku_id'])['sales'].median().rename('median_price_change_sales'),\n",
    "        df[df['price_change']==0].groupby(['geo_cluster_id', 'sku_id'])['sales'].median().rename('median_no_price_change_sales'),\n",
    "    ]\n",
    "    result = pd.concat(median_feature, axis=1).fillna(0)\n",
    "    result['date'] = date\n",
    "    result = result.merge(df, on=geo_sku_date_cols, how='left')\n",
    "    \n",
    "    for group, name in group_name_list:\n",
    "        group_results = df.groupby(group)['sales'].median().rename(name)\n",
    "        result = result.merge(group_results, on=group, how='left')\n",
    "    \n",
    "    cols = geo_sku_date_cols + \\\n",
    "            source_feature_cols + \\\n",
    "            ['median_non_zero_sales', 'median_price_change_sales', 'median_no_price_change_sales'] +\\\n",
    "            [name for _, name in group_name_list]\n",
    "    \n",
    "    return result[cols].reset_index(drop=True)\n",
    "\n",
    "def get_df(df, date, get_targets=True):\n",
    "    feature = get_feature(df , date, train_days=30)\n",
    "    price_change = get_future_values(df , date, 'price_change')\n",
    "    result = feature.merge(price_change, on=geo_sku_date_cols)\n",
    "    \n",
    "    if get_targets:\n",
    "        target = get_future_values(df , date, 'sales')\n",
    "        result = result.merge(target, on=geo_sku_date_cols)\n",
    "        \n",
    "    return result"
   ]
  },
  {
   "cell_type": "markdown",
   "metadata": {},
   "source": [
    "# CV"
   ]
  },
  {
   "cell_type": "code",
   "execution_count": 7,
   "metadata": {},
   "outputs": [
    {
     "data": {
      "text/plain": [
       "[Timestamp('2021-07-05 00:00:00'),\n",
       " Timestamp('2021-06-28 00:00:00'),\n",
       " Timestamp('2021-06-21 00:00:00'),\n",
       " Timestamp('2021-06-14 00:00:00'),\n",
       " Timestamp('2021-06-07 00:00:00')]"
      ]
     },
     "execution_count": 7,
     "metadata": {},
     "output_type": "execute_result"
    },
    {
     "name": "stdout",
     "output_type": "stream",
     "text": [
      "time: 52.4 s (started: 2021-10-31 13:51:06 +00:00)\n"
     ]
    }
   ],
   "source": [
    "train_days = 30\n",
    "valid_days = 14\n",
    "\n",
    "train_end_date = train['date'].max()\n",
    "valid_end_date_list = [train_end_date - timedelta(days=int(days)) for days in np.arange(valid_days, 45, step=7)]\n",
    "\n",
    "train_list = [get_df(train, date - timedelta(days=train_days)) for date in valid_end_date_list]\n",
    "valid_list = [get_df(train, date) for date in valid_end_date_list]\n",
    "\n",
    "valid_end_date_list"
   ]
  },
  {
   "cell_type": "markdown",
   "metadata": {
    "tags": []
   },
   "source": [
    "# Train"
   ]
  },
  {
   "cell_type": "code",
   "execution_count": 8,
   "metadata": {},
   "outputs": [
    {
     "name": "stdout",
     "output_type": "stream",
     "text": [
      "time: 263 ms (started: 2021-10-31 13:51:58 +00:00)\n"
     ]
    }
   ],
   "source": [
    "from lightgbm.sklearn import LGBMRegressor\n",
    "\n",
    "def edit_valid_price_change(df):\n",
    "    df = df.copy()\n",
    "    price_change_df = np.array(df[price_change_cols])\n",
    "    target_df = np.array(df[target_cols] > 0)\n",
    "    price_change_df[np.arange(target_df.shape[0]), target_df.argmax(axis=1)] = True\n",
    "    df[price_change_cols] = price_change_df\n",
    "    df['price_change_1'] = False\n",
    "    \n",
    "    df.loc[~df[target_cols].any(axis=1), price_change_cols] = False\n",
    "    \n",
    "    return df\n",
    "\n",
    "def metric(target, predict):\n",
    "    return (target - predict).abs().sum()/target.sum()\n",
    "\n",
    "\n",
    "train_cols = ['price_change', 'sales', 'price', 'weekday', \n",
    "              'median_non_zero_sales', 'median_price_change_sales', 'median_no_price_change_sales', 'median_geo_sku',\n",
    "              'median_geo_sku_weekday', 'median_geo_cluster_id', 'median_sku_id', 'median_city_id', 'median_category_id', \n",
    "              'median_product_type_id', 'median_brand_id', 'median_trademark_id', 'median_origin_country_id', 'median_commodity_group_id']\n",
    "\n",
    "price_change_cols = [f'price_change_{i}' for i in range(1,15)]\n",
    "target_cols = [f'sales_{i}' for i in range(1,15)]\n",
    "target2price_change = dict(zip(target_cols, price_change_cols))"
   ]
  },
  {
   "cell_type": "code",
   "execution_count": 9,
   "metadata": {
    "tags": []
   },
   "outputs": [
    {
     "data": {
      "application/vnd.jupyter.widget-view+json": {
       "model_id": "2e9733e22de847549b6a55ee60198512",
       "version_major": 2,
       "version_minor": 0
      },
      "text/plain": [
       "  0%|          | 0/14 [00:00<?, ?it/s]"
      ]
     },
     "metadata": {},
     "output_type": "display_data"
    },
    {
     "data": {
      "application/vnd.jupyter.widget-view+json": {
       "model_id": "d67aa5b496b648b6b36b07e4b54bbfb0",
       "version_major": 2,
       "version_minor": 0
      },
      "text/plain": [
       "  0%|          | 0/14 [00:00<?, ?it/s]"
      ]
     },
     "metadata": {},
     "output_type": "display_data"
    },
    {
     "data": {
      "application/vnd.jupyter.widget-view+json": {
       "model_id": "0c94fa8ea0624730bf96ee846fd70298",
       "version_major": 2,
       "version_minor": 0
      },
      "text/plain": [
       "  0%|          | 0/14 [00:00<?, ?it/s]"
      ]
     },
     "metadata": {},
     "output_type": "display_data"
    },
    {
     "data": {
      "application/vnd.jupyter.widget-view+json": {
       "model_id": "68a009b01c9646b2935f3c164d23345f",
       "version_major": 2,
       "version_minor": 0
      },
      "text/plain": [
       "  0%|          | 0/14 [00:00<?, ?it/s]"
      ]
     },
     "metadata": {},
     "output_type": "display_data"
    },
    {
     "data": {
      "application/vnd.jupyter.widget-view+json": {
       "model_id": "c9449b615a204fd38ab2852e1c3c8f18",
       "version_major": 2,
       "version_minor": 0
      },
      "text/plain": [
       "  0%|          | 0/14 [00:00<?, ?it/s]"
      ]
     },
     "metadata": {},
     "output_type": "display_data"
    },
    {
     "name": "stdout",
     "output_type": "stream",
     "text": [
      "public: 0.7384205911767825\n",
      "private: 0.7938083872270975\n",
      "mean iter: 52.41428571428571 \n",
      "\n",
      "fold mean:\n",
      "          0        1        2         3         4\n",
      "  0.761616  0.76624  0.77299  0.766891  0.762836 \n",
      "\n",
      "day mean:\n",
      "    sales_1   sales_2   sales_3   sales_4  sales_5   sales_6   sales_7  \\\n",
      "  0.910059  0.625048  0.646549  0.710965  0.74012  0.759432  0.776769   \n",
      "\n",
      "  sales_8   sales_9  sales_10  sales_11  sales_12  sales_13  sales_14  \n",
      "  0.79223  0.798499  0.751749  0.787627   0.79823  0.810556  0.817767   \n",
      "\n"
     ]
    },
    {
     "data": {
      "text/html": [
       "<div>\n",
       "<style scoped>\n",
       "    .dataframe tbody tr th:only-of-type {\n",
       "        vertical-align: middle;\n",
       "    }\n",
       "\n",
       "    .dataframe tbody tr th {\n",
       "        vertical-align: top;\n",
       "    }\n",
       "\n",
       "    .dataframe thead th {\n",
       "        text-align: right;\n",
       "    }\n",
       "</style>\n",
       "<table border=\"1\" class=\"dataframe\">\n",
       "  <thead>\n",
       "    <tr style=\"text-align: right;\">\n",
       "      <th></th>\n",
       "      <th>sales_1</th>\n",
       "      <th>sales_2</th>\n",
       "      <th>sales_3</th>\n",
       "      <th>sales_4</th>\n",
       "      <th>sales_5</th>\n",
       "      <th>sales_6</th>\n",
       "      <th>sales_7</th>\n",
       "      <th>sales_8</th>\n",
       "      <th>sales_9</th>\n",
       "      <th>sales_10</th>\n",
       "      <th>sales_11</th>\n",
       "      <th>sales_12</th>\n",
       "      <th>sales_13</th>\n",
       "      <th>sales_14</th>\n",
       "    </tr>\n",
       "  </thead>\n",
       "  <tbody>\n",
       "    <tr>\n",
       "      <th>0</th>\n",
       "      <td>0.90725</td>\n",
       "      <td>0.61836</td>\n",
       "      <td>0.651364</td>\n",
       "      <td>0.690566</td>\n",
       "      <td>0.718846</td>\n",
       "      <td>0.746651</td>\n",
       "      <td>0.765956</td>\n",
       "      <td>0.791944</td>\n",
       "      <td>0.785799</td>\n",
       "      <td>0.768789</td>\n",
       "      <td>0.787617</td>\n",
       "      <td>0.797493</td>\n",
       "      <td>0.809615</td>\n",
       "      <td>0.822372</td>\n",
       "    </tr>\n",
       "    <tr>\n",
       "      <th>1</th>\n",
       "      <td>0.90642</td>\n",
       "      <td>0.636956</td>\n",
       "      <td>0.65967</td>\n",
       "      <td>0.724031</td>\n",
       "      <td>0.749702</td>\n",
       "      <td>0.773055</td>\n",
       "      <td>0.785142</td>\n",
       "      <td>0.787943</td>\n",
       "      <td>0.793883</td>\n",
       "      <td>0.756912</td>\n",
       "      <td>0.769588</td>\n",
       "      <td>0.78012</td>\n",
       "      <td>0.798533</td>\n",
       "      <td>0.805411</td>\n",
       "    </tr>\n",
       "    <tr>\n",
       "      <th>2</th>\n",
       "      <td>0.905099</td>\n",
       "      <td>0.621104</td>\n",
       "      <td>0.627417</td>\n",
       "      <td>0.733127</td>\n",
       "      <td>0.752879</td>\n",
       "      <td>0.763475</td>\n",
       "      <td>0.77628</td>\n",
       "      <td>0.79453</td>\n",
       "      <td>0.820722</td>\n",
       "      <td>0.762533</td>\n",
       "      <td>0.802564</td>\n",
       "      <td>0.811604</td>\n",
       "      <td>0.822482</td>\n",
       "      <td>0.828037</td>\n",
       "    </tr>\n",
       "    <tr>\n",
       "      <th>3</th>\n",
       "      <td>0.920177</td>\n",
       "      <td>0.632694</td>\n",
       "      <td>0.656622</td>\n",
       "      <td>0.711239</td>\n",
       "      <td>0.740496</td>\n",
       "      <td>0.766335</td>\n",
       "      <td>0.782272</td>\n",
       "      <td>0.790799</td>\n",
       "      <td>0.789187</td>\n",
       "      <td>0.716802</td>\n",
       "      <td>0.799641</td>\n",
       "      <td>0.805095</td>\n",
       "      <td>0.80936</td>\n",
       "      <td>0.815749</td>\n",
       "    </tr>\n",
       "    <tr>\n",
       "      <th>4</th>\n",
       "      <td>0.911348</td>\n",
       "      <td>0.616129</td>\n",
       "      <td>0.637674</td>\n",
       "      <td>0.695864</td>\n",
       "      <td>0.738679</td>\n",
       "      <td>0.747647</td>\n",
       "      <td>0.774195</td>\n",
       "      <td>0.795937</td>\n",
       "      <td>0.802903</td>\n",
       "      <td>0.753709</td>\n",
       "      <td>0.778726</td>\n",
       "      <td>0.796837</td>\n",
       "      <td>0.812793</td>\n",
       "      <td>0.817265</td>\n",
       "    </tr>\n",
       "  </tbody>\n",
       "</table>\n",
       "</div>"
      ],
      "text/plain": [
       "    sales_1   sales_2   sales_3   sales_4   sales_5   sales_6   sales_7  \\\n",
       "0   0.90725   0.61836  0.651364  0.690566  0.718846  0.746651  0.765956   \n",
       "1   0.90642  0.636956   0.65967  0.724031  0.749702  0.773055  0.785142   \n",
       "2  0.905099  0.621104  0.627417  0.733127  0.752879  0.763475   0.77628   \n",
       "3  0.920177  0.632694  0.656622  0.711239  0.740496  0.766335  0.782272   \n",
       "4  0.911348  0.616129  0.637674  0.695864  0.738679  0.747647  0.774195   \n",
       "\n",
       "    sales_8   sales_9  sales_10  sales_11  sales_12  sales_13  sales_14  \n",
       "0  0.791944  0.785799  0.768789  0.787617  0.797493  0.809615  0.822372  \n",
       "1  0.787943  0.793883  0.756912  0.769588   0.78012  0.798533  0.805411  \n",
       "2   0.79453  0.820722  0.762533  0.802564  0.811604  0.822482  0.828037  \n",
       "3  0.790799  0.789187  0.716802  0.799641  0.805095   0.80936  0.815749  \n",
       "4  0.795937  0.802903  0.753709  0.778726  0.796837  0.812793  0.817265  "
      ]
     },
     "execution_count": 9,
     "metadata": {},
     "output_type": "execute_result"
    },
    {
     "name": "stdout",
     "output_type": "stream",
     "text": [
      "time: 49.4 s (started: 2021-10-31 13:51:59 +00:00)\n"
     ]
    }
   ],
   "source": [
    "results = pd.DataFrame(index=range(len(train_list)), columns=target_cols)\n",
    "best_iter = pd.DataFrame(index=range(len(train_list)), columns=target_cols)\n",
    "\n",
    "for i, (fold_train, fold_valid) in enumerate(zip(train_list, valid_list)):\n",
    "    for target_col in tqdm(target_cols):\n",
    "        model_train_cols = train_cols + [target2price_change[target_col]]\n",
    "        \n",
    "        model = LGBMRegressor(num_leaves=31, max_depth=8, learning_rate=0.1, n_estimators=999, boosting_type='gbdt', objective='mae', random_state=42)\n",
    "        model.fit(fold_train[model_train_cols], \n",
    "               fold_train[target_col], \n",
    "               eval_set=[(fold_valid[model_train_cols], \n",
    "                          fold_valid[target_col])], \n",
    "               early_stopping_rounds=10,\n",
    "               verbose=0\n",
    "              )    \n",
    "        pred = model.predict(edit_valid_price_change(fold_valid)[model_train_cols])\n",
    "        \n",
    "        results.loc[i, target_col] = metric(fold_valid[target_col], pred)\n",
    "        best_iter.loc[i, target_col] = model.best_iteration_\n",
    "    \n",
    "        \n",
    "print('public:', results[['sales_1', 'sales_2', 'sales_3', 'sales_4', 'sales_5', 'sales_6', 'sales_7']].mean().mean())\n",
    "print('private:', results[['sales_8', 'sales_9', 'sales_10', 'sales_11', 'sales_12', 'sales_13', 'sales_14']].mean().mean())\n",
    "print('mean iter:', best_iter.mean().mean(), '\\n')\n",
    "print('fold mean:\\n', pd.DataFrame(results.mean(axis=1), columns=['']).T, '\\n')\n",
    "print('day mean:\\n', pd.DataFrame(results.mean(axis=0), columns=['']).T, '\\n')\n",
    "results"
   ]
  },
  {
   "cell_type": "raw",
   "metadata": {},
   "source": [
    "public: 0.7384205911767825\n",
    "private: 0.7938083872270975\n",
    "mean iter: 52.41428571428571 \n",
    "\n",
    "fold mean:\n",
    "          0        1        2         3         4\n",
    "  0.761616  0.76624  0.77299  0.766891  0.762836 \n",
    "\n",
    "day mean:\n",
    "    sales_1   sales_2   sales_3   sales_4  sales_5   sales_6   sales_7  \\\n",
    "  0.910059  0.625048  0.646549  0.710965  0.74012  0.759432  0.776769   \n",
    "\n",
    "  sales_8   sales_9  sales_10  sales_11  sales_12  sales_13  sales_14  \n",
    "  0.79223  0.798499  0.751749  0.787627   0.79823  0.810556  0.817767   "
   ]
  },
  {
   "cell_type": "markdown",
   "metadata": {},
   "source": [
    "# Fix N Iter"
   ]
  },
  {
   "cell_type": "code",
   "execution_count": 10,
   "metadata": {},
   "outputs": [
    {
     "data": {
      "application/vnd.jupyter.widget-view+json": {
       "model_id": "92a47c6214a941e58ddeac7b5000967c",
       "version_major": 2,
       "version_minor": 0
      },
      "text/plain": [
       "  0%|          | 0/14 [00:00<?, ?it/s]"
      ]
     },
     "metadata": {},
     "output_type": "display_data"
    },
    {
     "data": {
      "application/vnd.jupyter.widget-view+json": {
       "model_id": "c75ffc0e5fd84c87b825d9e6a6fc130f",
       "version_major": 2,
       "version_minor": 0
      },
      "text/plain": [
       "  0%|          | 0/14 [00:00<?, ?it/s]"
      ]
     },
     "metadata": {},
     "output_type": "display_data"
    },
    {
     "data": {
      "application/vnd.jupyter.widget-view+json": {
       "model_id": "08f1012f110548aa90471c4e0f340788",
       "version_major": 2,
       "version_minor": 0
      },
      "text/plain": [
       "  0%|          | 0/14 [00:00<?, ?it/s]"
      ]
     },
     "metadata": {},
     "output_type": "display_data"
    },
    {
     "data": {
      "application/vnd.jupyter.widget-view+json": {
       "model_id": "bcea689f03614e05baeb4f583dc64053",
       "version_major": 2,
       "version_minor": 0
      },
      "text/plain": [
       "  0%|          | 0/14 [00:00<?, ?it/s]"
      ]
     },
     "metadata": {},
     "output_type": "display_data"
    },
    {
     "data": {
      "application/vnd.jupyter.widget-view+json": {
       "model_id": "ea283861fac84802acd393392f7b206b",
       "version_major": 2,
       "version_minor": 0
      },
      "text/plain": [
       "  0%|          | 0/14 [00:00<?, ?it/s]"
      ]
     },
     "metadata": {},
     "output_type": "display_data"
    },
    {
     "name": "stdout",
     "output_type": "stream",
     "text": [
      "public: 0.7400031201618373\n",
      "private: 0.7950916572864387\n",
      "mean iter: 52.41428571428571 \n",
      "\n",
      "fold mean:\n",
      "          0         1         2        3         4\n",
      "  0.762579  0.767368  0.774008  0.76919  0.764592 \n",
      "\n",
      "day mean:\n",
      "    sales_1   sales_2   sales_3   sales_4   sales_5   sales_6   sales_7  \\\n",
      "  0.911992  0.630639  0.647439  0.711438  0.741096  0.759993  0.777425   \n",
      "\n",
      "   sales_8   sales_9  sales_10  sales_11  sales_12  sales_13  sales_14  \n",
      "  0.793875  0.802052  0.752794  0.788373  0.798657  0.811231  0.818659   \n",
      "\n"
     ]
    },
    {
     "data": {
      "text/html": [
       "<div>\n",
       "<style scoped>\n",
       "    .dataframe tbody tr th:only-of-type {\n",
       "        vertical-align: middle;\n",
       "    }\n",
       "\n",
       "    .dataframe tbody tr th {\n",
       "        vertical-align: top;\n",
       "    }\n",
       "\n",
       "    .dataframe thead th {\n",
       "        text-align: right;\n",
       "    }\n",
       "</style>\n",
       "<table border=\"1\" class=\"dataframe\">\n",
       "  <thead>\n",
       "    <tr style=\"text-align: right;\">\n",
       "      <th></th>\n",
       "      <th>sales_1</th>\n",
       "      <th>sales_2</th>\n",
       "      <th>sales_3</th>\n",
       "      <th>sales_4</th>\n",
       "      <th>sales_5</th>\n",
       "      <th>sales_6</th>\n",
       "      <th>sales_7</th>\n",
       "      <th>sales_8</th>\n",
       "      <th>sales_9</th>\n",
       "      <th>sales_10</th>\n",
       "      <th>sales_11</th>\n",
       "      <th>sales_12</th>\n",
       "      <th>sales_13</th>\n",
       "      <th>sales_14</th>\n",
       "    </tr>\n",
       "  </thead>\n",
       "  <tbody>\n",
       "    <tr>\n",
       "      <th>0</th>\n",
       "      <td>0.907197</td>\n",
       "      <td>0.619446</td>\n",
       "      <td>0.653021</td>\n",
       "      <td>0.691027</td>\n",
       "      <td>0.718846</td>\n",
       "      <td>0.747098</td>\n",
       "      <td>0.765956</td>\n",
       "      <td>0.792593</td>\n",
       "      <td>0.786293</td>\n",
       "      <td>0.772273</td>\n",
       "      <td>0.789691</td>\n",
       "      <td>0.798522</td>\n",
       "      <td>0.810017</td>\n",
       "      <td>0.824121</td>\n",
       "    </tr>\n",
       "    <tr>\n",
       "      <th>1</th>\n",
       "      <td>0.906417</td>\n",
       "      <td>0.645387</td>\n",
       "      <td>0.66082</td>\n",
       "      <td>0.724589</td>\n",
       "      <td>0.74981</td>\n",
       "      <td>0.773314</td>\n",
       "      <td>0.78558</td>\n",
       "      <td>0.788114</td>\n",
       "      <td>0.794878</td>\n",
       "      <td>0.757078</td>\n",
       "      <td>0.770183</td>\n",
       "      <td>0.78058</td>\n",
       "      <td>0.800602</td>\n",
       "      <td>0.805799</td>\n",
       "    </tr>\n",
       "    <tr>\n",
       "      <th>2</th>\n",
       "      <td>0.907248</td>\n",
       "      <td>0.624452</td>\n",
       "      <td>0.628097</td>\n",
       "      <td>0.733201</td>\n",
       "      <td>0.753836</td>\n",
       "      <td>0.764798</td>\n",
       "      <td>0.77734</td>\n",
       "      <td>0.795179</td>\n",
       "      <td>0.823278</td>\n",
       "      <td>0.762968</td>\n",
       "      <td>0.802631</td>\n",
       "      <td>0.811722</td>\n",
       "      <td>0.823029</td>\n",
       "      <td>0.82833</td>\n",
       "    </tr>\n",
       "    <tr>\n",
       "      <th>3</th>\n",
       "      <td>0.927697</td>\n",
       "      <td>0.647636</td>\n",
       "      <td>0.656872</td>\n",
       "      <td>0.711471</td>\n",
       "      <td>0.743411</td>\n",
       "      <td>0.766603</td>\n",
       "      <td>0.78248</td>\n",
       "      <td>0.792058</td>\n",
       "      <td>0.79184</td>\n",
       "      <td>0.717208</td>\n",
       "      <td>0.800143</td>\n",
       "      <td>0.805296</td>\n",
       "      <td>0.809629</td>\n",
       "      <td>0.816318</td>\n",
       "    </tr>\n",
       "    <tr>\n",
       "      <th>4</th>\n",
       "      <td>0.9114</td>\n",
       "      <td>0.616271</td>\n",
       "      <td>0.638388</td>\n",
       "      <td>0.696903</td>\n",
       "      <td>0.739576</td>\n",
       "      <td>0.748151</td>\n",
       "      <td>0.775766</td>\n",
       "      <td>0.801431</td>\n",
       "      <td>0.813971</td>\n",
       "      <td>0.754443</td>\n",
       "      <td>0.779219</td>\n",
       "      <td>0.797164</td>\n",
       "      <td>0.812878</td>\n",
       "      <td>0.818728</td>\n",
       "    </tr>\n",
       "  </tbody>\n",
       "</table>\n",
       "</div>"
      ],
      "text/plain": [
       "    sales_1   sales_2   sales_3   sales_4   sales_5   sales_6   sales_7  \\\n",
       "0  0.907197  0.619446  0.653021  0.691027  0.718846  0.747098  0.765956   \n",
       "1  0.906417  0.645387   0.66082  0.724589   0.74981  0.773314   0.78558   \n",
       "2  0.907248  0.624452  0.628097  0.733201  0.753836  0.764798   0.77734   \n",
       "3  0.927697  0.647636  0.656872  0.711471  0.743411  0.766603   0.78248   \n",
       "4    0.9114  0.616271  0.638388  0.696903  0.739576  0.748151  0.775766   \n",
       "\n",
       "    sales_8   sales_9  sales_10  sales_11  sales_12  sales_13  sales_14  \n",
       "0  0.792593  0.786293  0.772273  0.789691  0.798522  0.810017  0.824121  \n",
       "1  0.788114  0.794878  0.757078  0.770183   0.78058  0.800602  0.805799  \n",
       "2  0.795179  0.823278  0.762968  0.802631  0.811722  0.823029   0.82833  \n",
       "3  0.792058   0.79184  0.717208  0.800143  0.805296  0.809629  0.816318  \n",
       "4  0.801431  0.813971  0.754443  0.779219  0.797164  0.812878  0.818728  "
      ]
     },
     "execution_count": 10,
     "metadata": {},
     "output_type": "execute_result"
    },
    {
     "name": "stdout",
     "output_type": "stream",
     "text": [
      "time: 36 s (started: 2021-10-31 13:52:48 +00:00)\n"
     ]
    }
   ],
   "source": [
    "results = pd.DataFrame(index=range(len(train_list)), columns=target_cols)\n",
    "n_iter = best_iter.mean().mean().round().astype(int)\n",
    "\n",
    "for i, (fold_train, fold_valid) in enumerate(zip(train_list, valid_list)):\n",
    "    for target_col in tqdm(target_cols):\n",
    "        model_train_cols = train_cols + [target2price_change[target_col]]\n",
    "        \n",
    "        model = LGBMRegressor(num_leaves=31, max_depth=8, learning_rate=0.1, n_estimators=n_iter, boosting_type='gbdt', objective='mae', random_state=42)\n",
    "        model.fit(fold_train[model_train_cols], fold_train[target_col])    \n",
    "        pred = model.predict(edit_valid_price_change(fold_valid)[model_train_cols])\n",
    "        \n",
    "        results.loc[i, target_col] = metric(fold_valid[target_col], pred)\n",
    "    \n",
    "        \n",
    "print('public:', results[['sales_1', 'sales_2', 'sales_3', 'sales_4', 'sales_5', 'sales_6', 'sales_7']].mean().mean())\n",
    "print('private:', results[['sales_8', 'sales_9', 'sales_10', 'sales_11', 'sales_12', 'sales_13', 'sales_14']].mean().mean())\n",
    "print('mean iter:', best_iter.mean().mean(), '\\n')\n",
    "print('fold mean:\\n', pd.DataFrame(results.mean(axis=1), columns=['']).T, '\\n')\n",
    "print('day mean:\\n', pd.DataFrame(results.mean(axis=0), columns=['']).T, '\\n')\n",
    "results"
   ]
  },
  {
   "cell_type": "raw",
   "metadata": {},
   "source": [
    "public: 0.7400031201618373\n",
    "private: 0.7950916572864387\n",
    "mean iter: nan \n",
    "\n",
    "fold mean:\n",
    "          0         1         2        3         4\n",
    "  0.762579  0.767368  0.774008  0.76919  0.764592 \n",
    "\n",
    "day mean:\n",
    "    sales_1   sales_2   sales_3   sales_4   sales_5   sales_6   sales_7  \\\n",
    "  0.911992  0.630639  0.647439  0.711438  0.741096  0.759993  0.777425   \n",
    "\n",
    "   sales_8   sales_9  sales_10  sales_11  sales_12  sales_13  sales_14  \n",
    "  0.793875  0.802052  0.752794  0.788373  0.798657  0.811231  0.818659 "
   ]
  },
  {
   "cell_type": "markdown",
   "metadata": {},
   "source": [
    "# predict"
   ]
  },
  {
   "cell_type": "code",
   "execution_count": 11,
   "metadata": {},
   "outputs": [
    {
     "data": {
      "application/vnd.jupyter.widget-view+json": {
       "model_id": "a3b31d17f5f1473d939d858aaeecf79e",
       "version_major": 2,
       "version_minor": 0
      },
      "text/plain": [
       "  0%|          | 0/14 [00:00<?, ?it/s]"
      ]
     },
     "metadata": {},
     "output_type": "display_data"
    },
    {
     "name": "stdout",
     "output_type": "stream",
     "text": [
      "time: 22.5 s (started: 2021-10-31 13:53:24 +00:00)\n"
     ]
    }
   ],
   "source": [
    "test_train = get_df(train, train_end_date-timedelta(days=14))\n",
    "test_test = get_df(test.append(train).sort_values(['geo_cluster_id', 'sku_id', 'date']), train_end_date, get_targets=False)\n",
    "n_iter = best_iter.mean().mean().round().astype(int)\n",
    "\n",
    "test_predictions = []\n",
    "for target_col, date in zip(tqdm(target_cols), np.sort(test['date'].unique())):\n",
    "    model_train_cols = train_cols + [target2price_change[target_col]]\n",
    "    \n",
    "    model = LGBMRegressor(num_leaves=31, max_depth=8, learning_rate=0.1, n_estimators=n_iter, boosting_type='gbdt', objective='mae', random_state=42)\n",
    "    model.fit(test_train[model_train_cols], test_train[target_col])\n",
    "    model_prediction = model.predict(test_test[model_train_cols])\n",
    "    \n",
    "    pred = test_test[['geo_cluster_id', 'sku_id']].copy()\n",
    "    pred['date'] = date\n",
    "    pred['pred'] = model_prediction\n",
    "    test_predictions.append(pred)\n",
    "    \n",
    "test_predictions = pd.concat(test_predictions).reset_index(drop=True)"
   ]
  },
  {
   "cell_type": "code",
   "execution_count": 12,
   "metadata": {},
   "outputs": [
    {
     "data": {
      "text/plain": [
       "0.07994718013530125"
      ]
     },
     "execution_count": 12,
     "metadata": {},
     "output_type": "execute_result"
    },
    {
     "name": "stdout",
     "output_type": "stream",
     "text": [
      "time: 1.4 s (started: 2021-10-31 13:53:47 +00:00)\n"
     ]
    }
   ],
   "source": [
    "sub = pd.read_csv('../data/raw/sample_final.csv')\n",
    "test_predicted = test.merge(test_predictions, on=['geo_cluster_id', 'sku_id', 'date'], how='left').fillna(0)\n",
    "sub['sales'] = test_predicted['pred'].tolist()\n",
    "sub.loc[sub['sales'] < 0, 'sales'] = 0\n",
    "sub['sales'].mean()"
   ]
  },
  {
   "cell_type": "code",
   "execution_count": 13,
   "metadata": {},
   "outputs": [
    {
     "data": {
      "image/png": "[encoded data removed]",
      "text/plain": [
       "<Figure size 1152x576 with 1 Axes>"
      ]
     },
     "metadata": {
      "needs_background": "light"
     },
     "output_type": "display_data"
    },
    {
     "name": "stdout",
     "output_type": "stream",
     "text": [
      "time: 2.74 s (started: 2021-10-31 13:53:48 +00:00)\n"
     ]
    }
   ],
   "source": [
    "sub.to_csv('../submissions/sub_TimeCV_DayModels_Id2Median_PriceChangeFeature.csv', index=False)\n",
    "sub['sales'].hist(bins=100, figsize=(16,8));"
   ]
  }
 ],
 "metadata": {
  "kernelspec": {
   "display_name": "Python 3 (ipykernel)",
   "language": "python",
   "name": "python3"
  },
  "language_info": {
   "codemirror_mode": {
    "name": "ipython",
    "version": 3
   },
   "file_extension": ".py",
   "mimetype": "text/x-python",
   "name": "python",
   "nbconvert_exporter": "python",
   "pygments_lexer": "ipython3",
   "version": "3.8.8"
  }
 },
 "nbformat": 4,
 "nbformat_minor": 4
}
