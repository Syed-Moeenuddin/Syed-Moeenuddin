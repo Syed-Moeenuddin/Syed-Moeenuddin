{
 "cells": [
  {
   "cell_type": "code",
   "execution_count": 4,
   "id": "883b5ebd",
   "metadata": {},
   "outputs": [],
   "source": [
    "import pandas as pd\n",
    "import numpy as np"
   ]
  },
  {
   "cell_type": "code",
   "execution_count": 5,
   "id": "482f2fa3",
   "metadata": {},
   "outputs": [],
   "source": [
    "nn_model = pd.read_csv('../submissions/baseline_tmax50_milr1e6_emb10xLR_lr3e4_bs256_nodrop_ver2_9models_leshapreproc.csv')\n",
    "tree_model = pd.read_csv('../submissions/sub_TimeCV_DayModels_Id2Median_PriceChangeFeature.csv')"
   ]
  },
  {
   "cell_type": "code",
   "execution_count": 6,
   "id": "8a68990b",
   "metadata": {},
   "outputs": [],
   "source": [
    "tree_model['sales'] = (tree_model['sales'] + nn_model['sales']) / 2\n",
    "tree_model.to_csv(\"../submissions/tree_and_nn_mean_blend_final.csv\", index=False)"
   ]
  },
  {
   "cell_type": "code",
   "execution_count": null,
   "id": "8259b47a",
   "metadata": {},
   "outputs": [],
   "source": []
  }
 ],
 "metadata": {
  "kernelspec": {
   "display_name": "Python 3 (ipykernel)",
   "language": "python",
   "name": "python3"
  },
  "language_info": {
   "codemirror_mode": {
    "name": "ipython",
    "version": 3
   },
   "file_extension": ".py",
   "mimetype": "text/x-python",
   "name": "python",
   "nbconvert_exporter": "python",
   "pygments_lexer": "ipython3",
   "version": "3.8.8"
  }
 },
 "nbformat": 4,
 "nbformat_minor": 5
}
